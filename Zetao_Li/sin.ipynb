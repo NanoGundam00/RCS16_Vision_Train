{
 "cells": [
  {
   "cell_type": "code",
   "execution_count": null,
   "metadata": {},
   "outputs": [],
   "source": [
    "import torch\n",
    "import math\n",
    "import matplotlib.pyplot as plt\n",
    "import numpy as np"
   ]
  },
  {
   "cell_type": "code",
   "execution_count": null,
   "metadata": {},
   "outputs": [],
   "source": [
    "#以下为常量\n",
    "EPOCH=1500\n",
    "MLP_LR=0.01  \n",
    "left,right=-2,2\n",
    "PI=math.pi\n",
    "NUM=50"
   ]
  },
  {
   "cell_type": "code",
   "execution_count": null,
   "metadata": {},
   "outputs": [],
   "source": [
    "\n",
    "x = torch.tensor([(num * PI) for num in np.arange(left,right,(right-left)/NUM)],dtype=torch.float32) #x的张量维度未知\n",
    "#numpy.arange(start, stop, step, dtype = None)在给定区间内返回均匀间隔的值\n",
    "y = torch.sin(x)\n",
    "plt.plot(x,y,color='red')\n",
    "plt.show\n"
   ]
  },
  {
   "cell_type": "code",
   "execution_count": null,
   "metadata": {},
   "outputs": [],
   "source": [
    "class MLP(torch.nn.Module):\n",
    "    def __init__(self):\n",
    "        super().__init__()\n",
    "        self.layer1=torch.nn.Linear(1,30)\n",
    "        self.layer2=torch.nn.Linear(30,30)\n",
    "        self.layer3=torch.nn.Linear(30,1)\n",
    "        #定义了三个全连接层\n",
    "    def forward(self, x):\n",
    "        x = self.layer1(x)\n",
    "        x = torch.nn.functional.relu(x)    \n",
    "        x = self.layer2(x)\n",
    "        x = torch.nn.functional.relu(x)    \n",
    "        x = self.layer3(x)\n",
    "        return x\n",
    "        #将数据x导入，经过三层变换后得到结果"
   ]
  },
  {
   "cell_type": "code",
   "execution_count": null,
   "metadata": {},
   "outputs": [],
   "source": [
    "mlp = MLP()  #将MLP类实例化\n",
    "input_x=x.reshape(-1, 1) #将x的第二维度置为1，剩余维度置入第一维，即将x变为行向量\n",
    "labels=y.reshape(-1,1)\n",
    "\n",
    "#训练mlp\n",
    "mlp_optimizer=torch.optim.Adam(mlp.parameters(), lr=MLP_LR)  #使用Adam优化器，更新各种参数\n",
    "mlp_Loss = []\n",
    "Ir = []\n",
    "for epoch in range (1,EPOCH+1):\n",
    "    if epoch % 10 == 0:\n",
    "            for p in mlp_optimizer.param_groups:\n",
    "                p['lr'] *= 0.99\n",
    "    Ir.append(mlp_optimizer.state_dict()['param_groups'][0]['lr'])\n",
    "    preds = mlp(input_x)\n",
    "    loss=torch.nn.functional.mse_loss(preds,labels)  #计算mlp变换后结果和原标签的均方差\n",
    "    mlp_optimizer.zero_grad()\n",
    "    loss.backward()\n",
    "    mlp_optimizer.step()\n",
    "    mlp_Loss.append(loss.item())\n",
    "    #Ir.append(mlp_optimizer.state_dict()['param_groups'][0]['lr'])\n",
    "# mlp_eval = mlp.eval()\n",
    "mlp_y = mlp.eval()(input_x)    #mlp.eval()函数返回一个函数，被返回的函数用于计算预测值\n",
    "plt.figure(figsize=(15,15))\n",
    "plt.subplot(3,3,1)\n",
    "plt.plot(input_x,mlp_y.detach().numpy())\n",
    "plt.scatter(input_x,labels,marker='+',color='red')\n",
    "plt.title('Zetao_Li')\n",
    "plt.xlabel('x')\n",
    "plt.ylabel('y')\n",
    "Loss_x = [i for i in range(1,EPOCH+1)]\n",
    "plt.subplot(3,3,2)\n",
    "plt.plot(Loss_x,mlp_Loss)\n",
    "plt.title('Zetao_Li')\n",
    "plt.xlabel('epoch')\n",
    "plt.ylabel('loss')\n",
    "plt.subplot(3,3,3)\n",
    "plt.plot(Loss_x,Ir)\n",
    "plt.title('Zetao_Li')\n",
    "plt.xlabel('epoch')\n",
    "plt.ylabel('Ir')\n",
    "plt.show() \n",
    "\n",
    "\n",
    "\n",
    "\n",
    "\n"
   ]
  }
 ],
 "metadata": {
  "kernelspec": {
   "display_name": "opencv",
   "language": "python",
   "name": "python3"
  },
  "language_info": {
   "codemirror_mode": {
    "name": "ipython",
    "version": 3
   },
   "file_extension": ".py",
   "mimetype": "text/x-python",
   "name": "python",
   "nbconvert_exporter": "python",
   "pygments_lexer": "ipython3",
   "version": "3.8.17"
  },
  "orig_nbformat": 4
 },
 "nbformat": 4,
 "nbformat_minor": 2
}
