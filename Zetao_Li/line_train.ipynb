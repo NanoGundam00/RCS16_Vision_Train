{
 "cells": [
  {
   "cell_type": "code",
   "execution_count": null,
   "metadata": {},
   "outputs": [],
   "source": [
    "import torch\n",
    "import numpy as np\n",
    "import matplotlib.pyplot as plt\n",
    "from torch.utils.data import Dataset\n",
    "from torch.utils.data import DataLoader\n",
    "from torch.utils.data import TensorDataset"
   ]
  },
  {
   "cell_type": "code",
   "execution_count": null,
   "metadata": {},
   "outputs": [],
   "source": [
    "np.random.seed(32)\n",
    "np_x =3 * np.random.rand(100,1)  #rand返回在指定范围内均匀分布的随机数\n",
    "np_x_ = np_x - 1.5\n",
    "np_y =5 * (np_x_**3) + 2 * (np_x_**2) + 6 * np_x_ + np.random.randn(100,1)*0.5 + 1  #randn返回在指定范围内正态分布的随机数\n",
    "plt.scatter(np_x,np_y,marker='+',color='blue') #plt.scatter()用于绘制散点图，marker确定点的形状，color用于点的颜色\n"
   ]
  },
  {
   "cell_type": "code",
   "execution_count": null,
   "metadata": {},
   "outputs": [],
   "source": [
    "x = torch.from_numpy(np_x).float() #将np数组转成torch，然后转成浮点型\n",
    "y = torch.from_numpy(np_y).float()\n",
    "dataset = TensorDataset(x,y)  #将数据打包处理\n",
    "dataloader = DataLoader(dataset,batch_size=15,shuffle=True) #将dataset数据上传，batch_size为批次处理量，suffle为打乱顺序，打乱顺序的目的为防止相邻数据过拟合影响整体\n",
    "aq = torch.randn(1,requires_grad = True) #随机k的值，并记录梯度\n",
    "bq = torch.randn(1,requires_grad = True)\n",
    "cq = torch.randn(1,requires_grad = True)\n",
    "dq = torch.randn(1,requires_grad = True)\n",
    "Ir = 0.0008\n",
    "epoch = 1500\n",
    "Loss = [] \n"
   ]
  },
  {
   "cell_type": "code",
   "execution_count": null,
   "metadata": {},
   "outputs": [],
   "source": [
    "for epoch in range(1,epoch+1):      #由于range为半开区间，所以epoch+1\n",
    "    sum_loss=0\n",
    "    for batch_id,(bx,by) in enumerate(dataloader):\n",
    "        #enumerate(sequence, [start=0]),sequence为一个序列、迭代器或其他支持迭代对象。start为下标起始位置的值。\n",
    "        bx_ = bx-1.5\n",
    "        f = aq * (bx_**3) + bq * (bx_ **2) + cq * bx_ + dq\n",
    "        loss = torch.mean((f-by)**2)\n",
    "        sum_loss+=loss.item()\n",
    "        loss.backward()\n",
    "        aq.data -= Ir*aq.grad.data\n",
    "        bq.data -= Ir*bq.grad.data\n",
    "        cq.data -= Ir*bq.grad.data\n",
    "        dq.data -= Ir*bq.grad.data\n",
    "        aq.grad.zero_()\n",
    "        bq.grad.zero_()\n",
    "        cq.grad.zero_()\n",
    "        dq.grad.zero_()\n",
    "    Loss.append(sum_loss)\n",
    "print(loss.item())\n",
    "print(f'aq:{aq.item()}') \n",
    "print(f'bq:{bq.item()}')\n",
    "print(f'cq:{cq.item()}')\n",
    "print(f'dq:{dq.item()}')\n",
    "Loss_x=[i for i in range(1,epoch+1)]\n",
    "plt.figure(figsize=(5,4))\n",
    "plt.subplot(2,2,1)\n",
    "plt.plot(Loss_x,Loss)       #plt.plot（x,y）用于描点画图，x, y可传入(元组), [列表], np.array, pd.Series\n",
    "plt.title('Zetao Li')\n",
    "plt.show()\n"
   ]
  },
  {
   "cell_type": "code",
   "execution_count": null,
   "metadata": {},
   "outputs": [],
   "source": [
    "aq=aq.item()\n",
    "bq=bq.item()\n",
    "cq=cq.item()\n",
    "dq=dq.item()\n",
    "x_=np.linspace(0,3,100)\n",
    "#numpy.linspace(start, stop, num=50, endpoint=True, retstep=False, dtype=None)\n",
    "#生成一个指定大小，指定数据区间的均匀分布序列\n",
    "#start、stop：序列中数据的下、上界。num：生成序列包含num个元素(默认50).返回值：是一个数组。\n",
    "xx = x_ - 1.5\n",
    "fx=aq * (xx ** 3) + bq * (xx ** 2) + cq * xx + dq\n",
    "plt.subplot(2,2,2)\n",
    "plt.plot(x_,fx)   \n",
    "plt.title('Zetao Li')\n",
    "plt.scatter(x,y,marker='+',color='red')\n",
    "plt.show()"
   ]
  }
 ],
 "metadata": {
  "kernelspec": {
   "display_name": "opencv",
   "language": "python",
   "name": "python3"
  },
  "language_info": {
   "codemirror_mode": {
    "name": "ipython",
    "version": 3
   },
   "file_extension": ".py",
   "mimetype": "text/x-python",
   "name": "python",
   "nbconvert_exporter": "python",
   "pygments_lexer": "ipython3",
   "version": "3.8.17"
  },
  "orig_nbformat": 4
 },
 "nbformat": 4,
 "nbformat_minor": 2
}
