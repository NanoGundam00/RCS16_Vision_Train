{
 "cells": [
  {
   "cell_type": "markdown",
   "metadata": {},
   "source": [
    "# 新建分支\n",
    "git pull origin master ，在master分支下，保证当前代码与线上同步，是最新的\n",
    "git branch <分支名> ，新建分支。\n",
    "git checkout <分支名> ，切换到新建的分支上，再进行下一步。\n",
    "git push origin <分支名>，把本地分支推到远端，让远端也有一个你的分支，用来后面提交你的代码。\n",
    "git checkout -b <分支名>，新建分支并切换到该分支"
   ]
  },
  {
   "cell_type": "markdown",
   "metadata": {},
   "source": [
    "git pull origin master          master分支下保证当前代码是最新的\n",
    "git branch name                 新建分支\n",
    "git checkout name               切换分支\n",
    "git push origin name            将本地分支推到远端\n",
    "\n",
    "git checkout -b name            新建分支并切换到此分支"
   ]
  },
  {
   "cell_type": "markdown",
   "metadata": {},
   "source": [
    "# 提交代码\n",
    "git status ，查看自己写了哪些东西。\n",
    "git add .\n",
    "git commit -m ‘本次提交的描述（写自己的话，不要抄我的，哼！）’\n",
    "git push origin <分支名> ,push是从本地向远端推代码，也就是把自己写的代码提交上去，像给老师交作业一样。\n",
    "\n",
    "执行完上一步，有可能报错，此时淡定，不认识英语的话在线翻译是干嘛的，大多数时候提示你，本地落后于远端，（意思就是远端比本地多了一些代码，为什么会出现这种情况呢，肯定是你跟别人共用一个分支，他提交了一段代码到远端，所以导致你的本地落后于远端）既然落后了，那就把他更新成最新的，\n",
    "git pull --rebase origin 远程分支名\n",
    "\n"
   ]
  },
  {
   "cell_type": "markdown",
   "metadata": {},
   "source": [
    "提交完代码之后需要让测试人员进行测试，若测试没问题，就可以rebase代码，然后上线了。（这一步是保证你要上线的代码是基于最新的master）\n",
    "\n",
    "git pull —rebase origin <分支名>\n",
    "git pull —rebase origin master\n",
    "执行这两步的时候都有可能发生冲突，此时你要做的就是解决冲突，再继续提交\n",
    "\n",
    "解决完冲突之后，git add .\n",
    "git rebase —continue\n",
    "若此时还有冲突，继续解决，解决完继续执行1，2步。\n",
    "若此时没有报错，git push origin <分支名>；（这一步必须在git pull —rebase origin master成功之后执行）\n",
    "此时若显示，当前分支落后于master分支，则需要强推，git push -f origin <分支名>，若不报错，则rebase成功。\n"
   ]
  },
  {
   "cell_type": "markdown",
   "metadata": {},
   "source": [
    "# 常用操作\n",
    "## 删除分支\n",
    "- 删除本地分支 ( 切换到master分支之后再删除 )\n",
    "git branch -d <分支名>\n",
    "- 删除远端分支\n",
    "git push origin --delete <分支名>\n"
   ]
  }
 ],
 "metadata": {
  "language_info": {
   "name": "python"
  },
  "orig_nbformat": 4
 },
 "nbformat": 4,
 "nbformat_minor": 2
}
